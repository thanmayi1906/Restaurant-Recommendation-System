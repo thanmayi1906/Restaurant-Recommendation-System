{
 "cells": [
  {
   "cell_type": "code",
   "execution_count": 7,
   "id": "e4c24ae1-e064-4985-8673-a9a329044ecc",
   "metadata": {},
   "outputs": [],
   "source": [
    "import numpy as np\n",
    "import pandas as pd\n",
    "import matplotlib.pyplot as plt\n",
    "import seaborn as sns\n",
    "import plotly.offline as py\n",
    "import plotly.offline as py\n",
    "import plotly.graph_objs as go\n",
    "import nltk\n",
    "from nltk.corpus import stopwords\n",
    "from sklearn.metrics.pairwise import linear_kernel\n",
    "from sklearn.feature_extraction.text import CountVectorizer\n",
    "from sklearn.feature_extraction.text import TfidfVectorizer"
   ]
  },
  {
   "cell_type": "code",
   "execution_count": 8,
   "id": "70c4aaba-ad37-4539-9d16-23962f39a373",
   "metadata": {},
   "outputs": [],
   "source": [
    "#dataset link: https://www.kaggle.com/datasets/himanshupoddar/zomato-bangalore-restaurants"
   ]
  },
  {
   "cell_type": "code",
   "execution_count": 9,
   "id": "7b603ad6-a219-4ceb-8edf-686983ae5ac4",
   "metadata": {},
   "outputs": [
    {
     "data": {
      "text/html": [
       "<div>\n",
       "<style scoped>\n",
       "    .dataframe tbody tr th:only-of-type {\n",
       "        vertical-align: middle;\n",
       "    }\n",
       "\n",
       "    .dataframe tbody tr th {\n",
       "        vertical-align: top;\n",
       "    }\n",
       "\n",
       "    .dataframe thead th {\n",
       "        text-align: right;\n",
       "    }\n",
       "</style>\n",
       "<table border=\"1\" class=\"dataframe\">\n",
       "  <thead>\n",
       "    <tr style=\"text-align: right;\">\n",
       "      <th></th>\n",
       "      <th>url</th>\n",
       "      <th>address</th>\n",
       "      <th>name</th>\n",
       "      <th>online_order</th>\n",
       "      <th>book_table</th>\n",
       "      <th>rate</th>\n",
       "      <th>votes</th>\n",
       "      <th>phone</th>\n",
       "      <th>location</th>\n",
       "      <th>rest_type</th>\n",
       "      <th>dish_liked</th>\n",
       "      <th>cuisines</th>\n",
       "      <th>approx_cost(for two people)</th>\n",
       "      <th>reviews_list</th>\n",
       "      <th>menu_item</th>\n",
       "      <th>listed_in(type)</th>\n",
       "      <th>listed_in(city)</th>\n",
       "    </tr>\n",
       "  </thead>\n",
       "  <tbody>\n",
       "    <tr>\n",
       "      <th>0</th>\n",
       "      <td>https://www.zomato.com/bangalore/jalsa-banasha...</td>\n",
       "      <td>942, 21st Main Road, 2nd Stage, Banashankari, ...</td>\n",
       "      <td>Jalsa</td>\n",
       "      <td>Yes</td>\n",
       "      <td>Yes</td>\n",
       "      <td>4.1/5</td>\n",
       "      <td>775</td>\n",
       "      <td>080 42297555\\r\\n+91 9743772233</td>\n",
       "      <td>Banashankari</td>\n",
       "      <td>Casual Dining</td>\n",
       "      <td>Pasta, Lunch Buffet, Masala Papad, Paneer Laja...</td>\n",
       "      <td>North Indian, Mughlai, Chinese</td>\n",
       "      <td>800</td>\n",
       "      <td>[('Rated 4.0', 'RATED\\n  A beautiful place to ...</td>\n",
       "      <td>[]</td>\n",
       "      <td>Buffet</td>\n",
       "      <td>Banashankari</td>\n",
       "    </tr>\n",
       "    <tr>\n",
       "      <th>1</th>\n",
       "      <td>https://www.zomato.com/bangalore/spice-elephan...</td>\n",
       "      <td>2nd Floor, 80 Feet Road, Near Big Bazaar, 6th ...</td>\n",
       "      <td>Spice Elephant</td>\n",
       "      <td>Yes</td>\n",
       "      <td>No</td>\n",
       "      <td>4.1/5</td>\n",
       "      <td>787</td>\n",
       "      <td>080 41714161</td>\n",
       "      <td>Banashankari</td>\n",
       "      <td>Casual Dining</td>\n",
       "      <td>Momos, Lunch Buffet, Chocolate Nirvana, Thai G...</td>\n",
       "      <td>Chinese, North Indian, Thai</td>\n",
       "      <td>800</td>\n",
       "      <td>[('Rated 4.0', 'RATED\\n  Had been here for din...</td>\n",
       "      <td>[]</td>\n",
       "      <td>Buffet</td>\n",
       "      <td>Banashankari</td>\n",
       "    </tr>\n",
       "  </tbody>\n",
       "</table>\n",
       "</div>"
      ],
      "text/plain": [
       "                                                 url  \\\n",
       "0  https://www.zomato.com/bangalore/jalsa-banasha...   \n",
       "1  https://www.zomato.com/bangalore/spice-elephan...   \n",
       "\n",
       "                                             address            name  \\\n",
       "0  942, 21st Main Road, 2nd Stage, Banashankari, ...           Jalsa   \n",
       "1  2nd Floor, 80 Feet Road, Near Big Bazaar, 6th ...  Spice Elephant   \n",
       "\n",
       "  online_order book_table   rate  votes                           phone  \\\n",
       "0          Yes        Yes  4.1/5    775  080 42297555\\r\\n+91 9743772233   \n",
       "1          Yes         No  4.1/5    787                    080 41714161   \n",
       "\n",
       "       location      rest_type  \\\n",
       "0  Banashankari  Casual Dining   \n",
       "1  Banashankari  Casual Dining   \n",
       "\n",
       "                                          dish_liked  \\\n",
       "0  Pasta, Lunch Buffet, Masala Papad, Paneer Laja...   \n",
       "1  Momos, Lunch Buffet, Chocolate Nirvana, Thai G...   \n",
       "\n",
       "                         cuisines approx_cost(for two people)  \\\n",
       "0  North Indian, Mughlai, Chinese                         800   \n",
       "1     Chinese, North Indian, Thai                         800   \n",
       "\n",
       "                                        reviews_list menu_item  \\\n",
       "0  [('Rated 4.0', 'RATED\\n  A beautiful place to ...        []   \n",
       "1  [('Rated 4.0', 'RATED\\n  Had been here for din...        []   \n",
       "\n",
       "  listed_in(type) listed_in(city)  \n",
       "0          Buffet    Banashankari  \n",
       "1          Buffet    Banashankari  "
      ]
     },
     "execution_count": 9,
     "metadata": {},
     "output_type": "execute_result"
    }
   ],
   "source": [
    "zomato_data=pd.read_csv(\"zomato.csv\")\n",
    "zomato_df=zomato_data.copy()\n",
    "zomato_df.head(2)"
   ]
  },
  {
   "cell_type": "code",
   "execution_count": 10,
   "id": "516630ef-7f7b-4be9-be66-d3639d9efb88",
   "metadata": {},
   "outputs": [
    {
     "data": {
      "text/plain": [
       "(51717, 17)"
      ]
     },
     "execution_count": 10,
     "metadata": {},
     "output_type": "execute_result"
    }
   ],
   "source": [
    "zomato_df.shape"
   ]
  },
  {
   "cell_type": "code",
   "execution_count": 11,
   "id": "8c12d2f5-4e8c-434b-ae56-935572724c32",
   "metadata": {},
   "outputs": [
    {
     "data": {
      "text/plain": [
       "Index(['url', 'address', 'name', 'online_order', 'book_table', 'rate', 'votes',\n",
       "       'phone', 'location', 'rest_type', 'dish_liked', 'cuisines',\n",
       "       'approx_cost(for two people)', 'reviews_list', 'menu_item',\n",
       "       'listed_in(type)', 'listed_in(city)'],\n",
       "      dtype='object')"
      ]
     },
     "execution_count": 11,
     "metadata": {},
     "output_type": "execute_result"
    }
   ],
   "source": [
    "zomato_df.columns"
   ]
  },
  {
   "cell_type": "code",
   "execution_count": 12,
   "id": "483ad19b-6def-4ddb-9951-cd41355a5554",
   "metadata": {},
   "outputs": [
    {
     "name": "stdout",
     "output_type": "stream",
     "text": [
      "<class 'pandas.core.frame.DataFrame'>\n",
      "RangeIndex: 51717 entries, 0 to 51716\n",
      "Data columns (total 17 columns):\n",
      " #   Column                       Non-Null Count  Dtype \n",
      "---  ------                       --------------  ----- \n",
      " 0   url                          51717 non-null  object\n",
      " 1   address                      51717 non-null  object\n",
      " 2   name                         51717 non-null  object\n",
      " 3   online_order                 51717 non-null  object\n",
      " 4   book_table                   51717 non-null  object\n",
      " 5   rate                         43942 non-null  object\n",
      " 6   votes                        51717 non-null  int64 \n",
      " 7   phone                        50509 non-null  object\n",
      " 8   location                     51696 non-null  object\n",
      " 9   rest_type                    51490 non-null  object\n",
      " 10  dish_liked                   23639 non-null  object\n",
      " 11  cuisines                     51672 non-null  object\n",
      " 12  approx_cost(for two people)  51371 non-null  object\n",
      " 13  reviews_list                 51717 non-null  object\n",
      " 14  menu_item                    51717 non-null  object\n",
      " 15  listed_in(type)              51717 non-null  object\n",
      " 16  listed_in(city)              51717 non-null  object\n",
      "dtypes: int64(1), object(16)\n",
      "memory usage: 6.7+ MB\n"
     ]
    }
   ],
   "source": [
    "zomato_df.info()"
   ]
  },
  {
   "cell_type": "code",
   "execution_count": 13,
   "id": "aaa14fa6-b717-4410-ac35-272bfc776d65",
   "metadata": {},
   "outputs": [
    {
     "data": {
      "text/plain": [
       "url                                0\n",
       "address                            0\n",
       "name                               0\n",
       "online_order                       0\n",
       "book_table                         0\n",
       "rate                            7775\n",
       "votes                              0\n",
       "phone                           1208\n",
       "location                          21\n",
       "rest_type                        227\n",
       "dish_liked                     28078\n",
       "cuisines                          45\n",
       "approx_cost(for two people)      346\n",
       "reviews_list                       0\n",
       "menu_item                          0\n",
       "listed_in(type)                    0\n",
       "listed_in(city)                    0\n",
       "dtype: int64"
      ]
     },
     "execution_count": 13,
     "metadata": {},
     "output_type": "execute_result"
    }
   ],
   "source": [
    "zomato_df.isnull().sum()"
   ]
  },
  {
   "cell_type": "code",
   "execution_count": 14,
   "id": "3e9f6a8f-34c1-4872-a3fd-2b2eb2c381eb",
   "metadata": {},
   "outputs": [
    {
     "name": "stdout",
     "output_type": "stream",
     "text": [
      "Number of duplicates before removal: 34\n"
     ]
    }
   ],
   "source": [
    "# Drop unnecessary columns\n",
    "zomato_df = zomato_df.drop(['phone', 'dish_liked', 'url'], axis=1, errors='ignore')\n",
    "\n",
    "zomato_df.dropna(how='any', inplace=True)\n",
    "\n",
    "print(\"Number of duplicates before removal:\", zomato_df.duplicated().sum())\n",
    "zomato_df.drop_duplicates(inplace=True)\n",
    "\n",
    "zomato_df = zomato_df.rename(columns={\n",
    "    'approx_cost(for two people)': 'cost',\n",
    "    'listed_in(type)': 'type',\n",
    "    'listed_in(city)': 'city'\n",
    "})\n",
    "\n",
    "zomato_df = zomato_df[~zomato_df['rate'].isin(['NEW', '-'])].reset_index(drop=True)\n",
    "\n",
    "zomato_df['rate'] = (\n",
    "    zomato_df['rate']\n",
    "    .str.replace('/5', '')  # Remove '/5' if present\n",
    "    .str.strip()            # Remove whitespace\n",
    "    .astype(float)          # Convert to float\n",
    ")\n",
    "\n",
    "zomato_df['cost'] = (\n",
    "    zomato_df['cost']\n",
    "    .astype(str)\n",
    "    .str.replace(',', '.')  \n",
    "    .astype(float)\n",
    ")"
   ]
  },
  {
   "cell_type": "code",
   "execution_count": null,
   "id": "891db05f-df11-48f7-b844-979c88955bc9",
   "metadata": {},
   "outputs": [],
   "source": [
    "# Computing Mean Rating\n",
    "restaurants = list(zomato_df['name'].unique())\n",
    "zomato_df['Mean Rating'] = 0.0\n",
    "\n",
    "for restaurant in restaurants:\n",
    "    # Calculate mean rating for each restaurant\n",
    "    mean_rating = zomato_df.loc[zomato_df['name'] == restaurant, 'rate'].mean()\n",
    "    # Assign the mean rating to all rows for this restaurant\n",
    "    zomato_df.loc[zomato_df['name'] == restaurant, 'Mean Rating'] = mean_rating\n",
    "\n",
    "# Scaling the mean rating values\n",
    "from sklearn.preprocessing import MinMaxScaler\n",
    "scaler = MinMaxScaler(feature_range=(1, 5))\n",
    "zomato_df[['Mean Rating']] = scaler.fit_transform(zomato_df[['Mean Rating']]).round(2)\n",
    "\n",
    "# Checking the mean rating with restaurant name and rating\n",
    "print(zomato_df[['name', 'rate', 'Mean Rating']].head())"
   ]
  },
  {
   "cell_type": "code",
   "execution_count": null,
   "id": "1626178e-a2d6-4850-a87f-d8c986eb0260",
   "metadata": {},
   "outputs": [],
   "source": [
    "# Descriptive statistics for numerical columns\n",
    "print(\"\\nDescriptive statistics for numerical columns:\")\n",
    "print(zomato_df[numerical_cols].describe())"
   ]
  },
  {
   "cell_type": "code",
   "execution_count": null,
   "id": "00ee494a-8ea8-451b-9148-940bad9b257b",
   "metadata": {},
   "outputs": [],
   "source": [
    "zomato_df.isnull().sum()"
   ]
  },
  {
   "cell_type": "code",
   "execution_count": null,
   "id": "eda888b3-bf88-423a-86b1-96d6fa02b013",
   "metadata": {},
   "outputs": [],
   "source": [
    "numerical_cols = zomato_df.select_dtypes(include=np.number).columns.tolist()\n",
    "print(\"\\nNumerical columns:\")\n",
    "print(numerical_cols)"
   ]
  },
  {
   "cell_type": "code",
   "execution_count": null,
   "id": "f5071d70-e7c4-4410-a581-a0f727d14051",
   "metadata": {},
   "outputs": [],
   "source": [
    "# Identify Categorical columns\n",
    "categorical_cols = zomato_df.select_dtypes(include='object').columns.tolist()\n",
    "print(\"\\nCategorical columns:\")\n",
    "print(categorical_cols)"
   ]
  },
  {
   "cell_type": "code",
   "execution_count": null,
   "id": "cbcc5eaa-6867-462f-b96f-4afe7ac4ce9e",
   "metadata": {},
   "outputs": [],
   "source": [
    "#We will be using the 'Review' and 'Cuisines' feature in order to create a recommender system\n",
    "## Lower Casing\n",
    "zomato_df['reviews_list'] = zomato_df['reviews_list'].str.lower()\n",
    "\n",
    "## Removal of Punctuations\n",
    "import string\n",
    "PUNCT_TO_REMOVE = string.punctuation\n",
    "def remove_punctuation(text):\n",
    "    \"\"\"custom function to remove the punctuation\"\"\"\n",
    "    return text.translate(str.maketrans('', '', PUNCT_TO_REMOVE))\n",
    "zomato_df['reviews_list'] = zomato_df['reviews_list'].apply(lambda text: remove_punctuation(text))"
   ]
  },
  {
   "cell_type": "code",
   "execution_count": null,
   "id": "53ac5157-c554-4153-aaf3-56288429a624",
   "metadata": {},
   "outputs": [],
   "source": [
    "zomato_df[['reviews_list', 'cuisines']].sample(5)"
   ]
  },
  {
   "cell_type": "code",
   "execution_count": null,
   "id": "e032f4e8-89e6-4863-9481-82671ba43a7b",
   "metadata": {},
   "outputs": [],
   "source": [
    "print(\"\\n--- Step 4: Outlier Detection (using Box Plots) ---\")\n",
    "\n",
    "plt.figure(figsize=(15, 8))\n",
    "for i, col in enumerate(numerical_cols):\n",
    "    plt.subplot(5, 5, i + 1) # Adjust subplot grid based on number of numerical columns\n",
    "    sns.boxplot(y=zomato_df[col])\n",
    "    plt.title(f'Box Plot of {col}')\n",
    "plt.tight_layout()\n",
    "plt.show()"
   ]
  },
  {
   "cell_type": "code",
   "execution_count": null,
   "id": "8562caae-9871-4bff-8b28-7fd24e0dc586",
   "metadata": {},
   "outputs": [],
   "source": [
    "plt.figure(figsize=(10,7))\n",
    "chains = zomato_df['name'].value_counts()[:6].reset_index()\n",
    "chains.columns = ['name', 'count']\n",
    "sns.barplot(data=chains, x='name', y='count', hue='name', dodge=False, palette='tab10', legend=False)\n",
    "plt.title(\"Most famous restaurants in Bangalore\")\n",
    "plt.ylabel(\"Number of outlets\")\n"
   ]
  },
  {
   "cell_type": "code",
   "execution_count": null,
   "id": "5b7ad7d0-26bc-4813-84f7-23c881075026",
   "metadata": {},
   "outputs": [],
   "source": [
    "import matplotlib.pyplot as plt\n",
    "import seaborn as sns\n",
    "\n",
    "# Set the figure size\n",
    "fig, ax = plt.subplots(nrows=1, ncols=1, figsize=(10, 5))\n",
    "\n",
    "# Plot histogram of the 'rate' column\n",
    "sns.histplot(zomato_df['rate'], bins=20, color='skyblue',edgecolor=None, ax=ax)\n",
    "\n",
    "# Plot a vertical line for the mean\n",
    "mean_rating = zomato_df['rate'].mean()\n",
    "ax.axvline(mean_rating, color='red', linewidth=2, label=f'Mean: {mean_rating:.2f}')\n",
    "\n",
    "# Add legend, labels, and title\n",
    "ax.legend()\n",
    "ax.set_xlabel('Rate', size=20)\n",
    "ax.set_ylabel('Count', size=20)\n",
    "ax.set_title('Distribution (count) of Restaurant Rating', size=20)\n",
    "\n",
    "# Display the plot\n",
    "plt.tight_layout()\n",
    "plt.show()\n"
   ]
  },
  {
   "cell_type": "code",
   "execution_count": null,
   "id": "b483d62c-c9ec-4a3b-b6bb-255c665e533b",
   "metadata": {},
   "outputs": [],
   "source": [
    "import matplotlib.pyplot as plt\n",
    "import seaborn as sns\n",
    "\n",
    "# Use a font that supports more Unicode characters to avoid glyph warnings\n",
    "plt.rcParams['font.family'] = 'DejaVu Sans'\n",
    "\n",
    "# Optional: Clean restaurant names to remove problematic non-ASCII characters\n",
    "zomato_df['name'] = zomato_df['name'].apply(lambda x: x.encode('ascii', 'ignore').decode())\n",
    "\n",
    "# Get top 10 rated restaurants\n",
    "df_rating = zomato_df.drop_duplicates(subset='name')\n",
    "df_rating = df_rating.sort_values(by='Mean Rating', ascending=False).head(10)\n",
    "\n",
    "# Set figure size\n",
    "plt.figure(figsize=(10, 7))\n",
    "\n",
    "# Barplot\n",
    "sns.barplot(data=df_rating, x='Mean Rating', y='name', palette='RdBu', legend=False,hue='name')\n",
    "\n",
    "# Title and axis labels\n",
    "plt.title('Top Rated 10 Restaurants', fontsize=16)\n",
    "plt.xlabel('Mean Rating', fontsize=14)\n",
    "plt.ylabel('Restaurant Name', fontsize=14)\n",
    "\n",
    "# Improve layout\n",
    "plt.tight_layout()\n",
    "\n",
    "# Show plot\n",
    "plt.show()\n"
   ]
  },
  {
   "cell_type": "code",
   "execution_count": null,
   "id": "d805a6c9-0342-48e2-88f2-290abf746a5f",
   "metadata": {},
   "outputs": [],
   "source": [
    "# Sample implementation of get_top_words\n",
    "def get_top_words(text_series, top_n=15, ngram_range=(2, 2)):\n",
    "    \"\"\"Extract top n most frequent n-grams from a pandas Series of text data\"\"\"\n",
    "    vec = CountVectorizer(ngram_range=ngram_range, stop_words='english')\n",
    "    bag_of_words = vec.fit_transform(text_series.fillna(''))\n",
    "    sum_words = bag_of_words.sum(axis=0)\n",
    "    words_freq = [(word, sum_words[0, idx]) for word, idx in vec.vocabulary_.items()]\n",
    "    words_freq = sorted(words_freq, key=lambda x: x[1], reverse=True)\n",
    "    return words_freq[:top_n]\n",
    "\n",
    "# Assuming zomato_df is your DataFrame and 'cuisines' is a column in it\n",
    "lst = get_top_words(zomato_df['cuisines'], top_n=15, ngram_range=(2, 2))\n",
    "df_words = pd.DataFrame(lst, columns=['Word', 'Count'])\n",
    "\n",
    "# Plotting\n",
    "plt.figure(figsize=(10, 7))\n",
    "sns.barplot(data=df_words, x='Count', y='Word',hue='Word', palette='Set2',legend=False)  \n",
    "plt.title('Top 2-Word Cuisine Combinations', fontsize=16)\n",
    "plt.xlabel('Count', fontsize=14)\n",
    "plt.ylabel('Cuisine Pair', fontsize=14)\n",
    "plt.tight_layout()\n",
    "plt.show()\n"
   ]
  },
  {
   "cell_type": "code",
   "execution_count": null,
   "id": "6cc61058-4fc1-4313-bde1-6c916289c915",
   "metadata": {},
   "outputs": [],
   "source": [
    "#numerical cols analysis\n",
    "numerical_cols = zomato_df.select_dtypes(include=['int64', 'float64']).columns\n",
    "plt.figure(figsize=(15, 10))  # Bigger, more readable\n",
    "for i, col in enumerate(numerical_cols):\n",
    "    plt.subplot((len(numerical_cols) + 2) // 3, 3, i + 1)  # Dynamic rows, 3 columns\n",
    "    sns.histplot(zomato_df[col], kde=True, color='steelblue', edgecolor='black')  # Styled\n",
    "    plt.title(f'Distribution of {col}')\n",
    "    plt.xlabel(col)\n",
    "    plt.ylabel(\"Frequency\")\n",
    "plt.tight_layout()\n",
    "plt.show()"
   ]
  },
  {
   "cell_type": "code",
   "execution_count": null,
   "id": "92bc6a5b-49b8-4028-b02e-fb7a8b9cbe90",
   "metadata": {},
   "outputs": [],
   "source": [
    "#Categorical Analysis\n",
    "categorical_cols = zomato_df.select_dtypes(include=['object']).columns\n",
    "\n",
    "def truncate_text(text, max_length=15):\n",
    "    \"\"\"Truncate text if it's too long and handle NaN values\"\"\"\n",
    "    if pd.isna(text):\n",
    "        return 'Unknown'\n",
    "    text_str = str(text)\n",
    "    return text_str[:max_length] + '...' if len(text_str) > max_length else text_str\n",
    "print(\"\\nBar plots for categorical columns:\")\n",
    "if len(categorical_cols) == 0:\n",
    "    print(\"No categorical columns found!\")\n",
    "else:\n",
    "    n_cols = min(3, len(categorical_cols))  # Max 3 columns\n",
    "    n_rows = (len(categorical_cols) + n_cols - 1) // n_cols\n",
    "    \n",
    "    plt.figure(figsize=(15, 4 * n_rows))  # Smaller, more manageable size\n",
    "    \n",
    "    for i, col in enumerate(categorical_cols):\n",
    "        plt.subplot(n_rows, n_cols, i + 1)\n",
    "        \n",
    "        # Get top 5 categories\n",
    "        top_categories = zomato_df[col].value_counts().head(5)\n",
    "        truncated_categories = [truncate_text(cat, 12) for cat in top_categories.index]\n",
    "        \n",
    "        # Create simple bar plot (not seaborn countplot)\n",
    "        plt.barh(range(len(top_categories)), top_categories.values, color='skyblue')\n",
    "        plt.yticks(range(len(top_categories)), truncated_categories, fontsize=8)\n",
    "        plt.xlabel('Count', fontsize=8)\n",
    "        plt.title(f'Top 5 {col}', fontsize=9)\n",
    "        plt.gca().tick_params(axis='both', which='major', labelsize=7)\n",
    "        for j, v in enumerate(top_categories.values):\n",
    "            plt.text(v + max(top_categories.values) * 0.01, j, str(v), \n",
    "                    va='center', fontsize=7)\n",
    "    \n",
    "    plt.tight_layout() \n",
    "    plt.show()"
   ]
  },
  {
   "cell_type": "code",
   "execution_count": null,
   "id": "8c268e1d-d178-4c86-97a5-e47a5cf2f44c",
   "metadata": {},
   "outputs": [],
   "source": [
    "#Numerical vs Numerical\n",
    "print(\"Numerical vs. Numerical:\")\n",
    "print(\"\\nCorrelation Matrix:\")\n",
    "corr_matrix = zomato_df[numerical_cols].corr()\n",
    "print(corr_matrix)\n",
    "plt.figure(figsize=(10, 8))\n",
    "sns.heatmap(corr_matrix, annot=True, fmt=\".2f\", cmap='coolwarm', square=True, linewidths=0.5)\n",
    "plt.title('Correlation matrix of numerical features')\n",
    "plt.show()"
   ]
  },
  {
   "cell_type": "code",
   "execution_count": null,
   "id": "71dff2e9-dc05-485d-85e7-c2e04bb451a4",
   "metadata": {},
   "outputs": [],
   "source": [
    "#Pairplot for scatterplots\n",
    "print(\"Pairplot:\")\n",
    "sns.pairplot(zomato_df[numerical_cols].sample(500))\n",
    "plt.suptitle('Pairplot of Numerical Features',y=1.0) #y is set to maintain the height between the title and plots(vertically)\n",
    "plt.show()"
   ]
  },
  {
   "cell_type": "code",
   "execution_count": null,
   "id": "2a03a24a-41da-476f-9dfd-df498f8102cb",
   "metadata": {},
   "outputs": [],
   "source": [
    "#Rating vs online_order-to analyse whether the rating is influenced by the point that online order is offered or not\n",
    "plt.figure(figsize=(12, 6))\n",
    "sns.boxplot(x='online_order', y='rate', data=zomato_df)\n",
    "plt.title('Rating vs Online Order')\n",
    "plt.show()"
   ]
  },
  {
   "cell_type": "code",
   "execution_count": null,
   "id": "4e264cea-3807-4a72-bf06-3745caf5597a",
   "metadata": {},
   "outputs": [],
   "source": [
    "#rating vs city-if restuarant ratings vary accross cities\n",
    "plt.figure(figsize=(20, 6))\n",
    "sns.boxplot(x='city', y='rate', data=zomato_df)\n",
    "plt.title('Rating vs City')\n",
    "plt.xticks(rotation='vertical')  #making the labels vertical so that the labels don't overlap\n",
    "plt.tight_layout()\n",
    "plt.show()"
   ]
  },
  {
   "cell_type": "code",
   "execution_count": null,
   "id": "409580b5-c5cc-4381-8374-2eb931c08740",
   "metadata": {},
   "outputs": [],
   "source": [
    "#rest_type vs cost- How cost to eat varies accross diff types of restuarants\n",
    "plt.figure(figsize=(20, 6))\n",
    "sns.boxplot(x='rest_type', y='cost', data=zomato_df)\n",
    "plt.title('Restaurant type vs Cost')\n",
    "plt.xticks(rotation='vertical')  #making the labels vertical so that the labels don't overlap\n",
    "plt.tight_layout()\n",
    "plt.show()"
   ]
  },
  {
   "cell_type": "code",
   "execution_count": null,
   "id": "f46b1536-59c1-4468-8ea6-1761c6e1fdc4",
   "metadata": {},
   "outputs": [],
   "source": [
    "#Online Order Availability vs Cost- If restaurants offering online delivery services tend to be cheaper or costlier\n",
    "plt.figure(figsize=(20, 6))\n",
    "sns.boxplot(x='online_order', y='cost', data=zomato_df)\n",
    "plt.title('Online Order Availability vs Cost ')\n",
    "plt.xticks(rotation='vertical')  #making the labels vertical so that the labels don't overlap\n",
    "plt.tight_layout()\n",
    "plt.show()"
   ]
  },
  {
   "cell_type": "code",
   "execution_count": null,
   "id": "e93d1978-9b82-4a95-a660-6d91427aa071",
   "metadata": {},
   "outputs": [],
   "source": [
    "#location vs cost\n",
    "plt.figure(figsize=(20, 6))\n",
    "sns.boxplot(x='location', y='cost', data=zomato_df)\n",
    "plt.title('Location(Neighborhood) vs Cost ')\n",
    "plt.xticks(rotation='vertical')  #making the labels vertical so that the labels don't overlap\n",
    "plt.tight_layout()\n",
    "plt.show()"
   ]
  },
  {
   "cell_type": "code",
   "execution_count": null,
   "id": "48da2008-400c-439e-93b0-79bd0fc393cf",
   "metadata": {},
   "outputs": [],
   "source": [
    "#online order vs type of meal-online ordering is more common in which type of restaurants \n",
    "plt.figure(figsize=(12, 6))\n",
    "plt.subplot(1, 2, 1)\n",
    "sns.countplot(data=zomato_df, x='type', hue='online_order')\n",
    "plt.title('Online order availability vs type of meal')\n",
    "plt.xticks(rotation=45, ha='right')"
   ]
  },
  {
   "cell_type": "code",
   "execution_count": null,
   "id": "0a2fc1b8-5e89-458b-af05-52dc73e92265",
   "metadata": {},
   "outputs": [],
   "source": [
    "plt.figure(figsize=(12, 6))\n",
    "print(\"\\nCross-tabulation: Table booking option vs location\")\n",
    "rest_type_crosstab= pd.crosstab(zomato_df['book_table'], zomato_df['location'])\n",
    "print(rest_type_crosstab)\n",
    "filtered_crosstab = rest_type_crosstab.loc[:, rest_type_crosstab.sum() >= 100]\n",
    "sns.heatmap(filtered_crosstab, annot=True,annot_kws={\"size\": 4},fmt='d', cmap='YlGnBu')\n",
    "plt.title('Heatmap of Table booking option vs location')\n",
    "plt.tight_layout()\n",
    "plt.show()"
   ]
  },
  {
   "cell_type": "code",
   "execution_count": null,
   "id": "326940aa-fe10-4a7e-9162-ffeb68cb9018",
   "metadata": {},
   "outputs": [],
   "source": [
    "#only include rows where the rest_type is among the top 10 most common types.\n",
    "top_rest_types = zomato_df['rest_type'].value_counts().nlargest(10).index\n",
    "filtered_df = zomato_df[zomato_df['rest_type'].isin(top_rest_types)]\n",
    "plt.figure(figsize=(12, 6))\n",
    "sns.countplot(data=filtered_df, x='rest_type', hue='type')\n",
    "plt.title('restaurant type vs type of meal')\n",
    "plt.xticks(rotation=45, ha='right')\n",
    "plt.tight_layout()\n",
    "plt.show()"
   ]
  },
  {
   "cell_type": "code",
   "execution_count": null,
   "id": "1bdc4416-8e4f-48d2-bfce-36d6dbd44a61",
   "metadata": {},
   "outputs": [],
   "source": [
    "top_rest_types = zomato_df['rest_type'].value_counts().nlargest(10).index #filtering so that too many rows are not used\n",
    "filtered_df = zomato_df[zomato_df['rest_type'].isin(top_rest_types)]\n",
    "print(\"\\nCost by Rest Type, broken down by Online Order:\")\n",
    "plt.figure(figsize=(14, 7))\n",
    "sns.boxplot(x='rest_type', y='cost', hue='online_order', data=filtered_df)\n",
    "plt.title('Cost by Rest Type and Online Order Availability')\n",
    "plt.xticks(rotation=45, ha='right')\n",
    "plt.legend(title='Online Order')\n",
    "plt.tight_layout()\n",
    "plt.show()\n",
    "print(\"\\nVotes vs Cost, separated by Online Order and colored by Type:\")\n",
    "sns.relplot(\n",
    "    x='votes', y='cost',\n",
    "    hue='type', col='online_order',\n",
    "    data=zomato_df,\n",
    "    kind='scatter', height=5, aspect=1.2\n",
    ")\n",
    "plt.suptitle('Votes vs Cost by Type and Online Order Availability', y=1.05)\n",
    "plt.tight_layout()\n",
    "plt.show()"
   ]
  },
  {
   "cell_type": "code",
   "execution_count": null,
   "id": "ddb90a7d-28b8-4856-b798-03234253ecc4",
   "metadata": {},
   "outputs": [],
   "source": [
    "df_percent = zomato_df[zomato_df['rate'] > 3.5].copy()\n",
    "\n",
    "# Clean text: fill NaN with empty string and ensure all entries are strings\n",
    "df_percent.loc[:, 'reviews_list'] = df_percent['reviews_list'].fillna('').astype(str)\n",
    "\n",
    "# Set index and prepare for similarity calculation\n",
    "df_percent.set_index('name', inplace=True)\n",
    "indices = pd.Series(df_percent.index)\n",
    "\n",
    "# TF-IDF Vectorization\n",
    "tfidf = TfidfVectorizer(analyzer='word', ngram_range=(1, 2), min_df=1, stop_words='english')\n",
    "tfidf_matrix = tfidf.fit_transform(df_percent['reviews_list'])\n",
    "\n",
    "# Cosine similarity\n",
    "cosine_similarities = linear_kernel(tfidf_matrix, tfidf_matrix)\n"
   ]
  },
  {
   "cell_type": "code",
   "execution_count": null,
   "id": "0ef98676-1aa0-48b9-a0fb-a7748221bc67",
   "metadata": {},
   "outputs": [],
   "source": [
    "import pandas as pd\n",
    "from sklearn.feature_extraction.text import TfidfVectorizer\n",
    "from sklearn.neighbors import NearestNeighbors  # This import was missing\n",
    "\n",
    "def recommend(restaurant_name, top_n=10, df=zomato_df):\n",
    "    \"\"\"\n",
    "    Recommend similar restaurants based on cuisines using TF-IDF and cosine similarity.\n",
    "    \"\"\"\n",
    "    try:\n",
    "        # 1. Filter dataset (optional memory optimization)\n",
    "        df_subset = df[df['rate'] > 1.5].copy() if len(df) > 10000 else df.copy()\n",
    "        \n",
    "        # 2. Vectorize cuisines using TF-IDF\n",
    "        vectorizer = TfidfVectorizer(stop_words='english')\n",
    "        tfidf_matrix = vectorizer.fit_transform(df_subset['cuisines'].fillna(''))\n",
    "        \n",
    "        # 3. Fit Nearest Neighbors\n",
    "        nn = NearestNeighbors(n_neighbors=top_n+1, algorithm='brute', metric='cosine')\n",
    "        nn.fit(tfidf_matrix)\n",
    "        \n",
    "        # 4. Index lookup\n",
    "        indices = pd.Series(df_subset.index, index=df_subset['name']).drop_duplicates()\n",
    "        idx = indices.get(restaurant_name)\n",
    "        \n",
    "        if idx is None:\n",
    "            print(f\"❌ Restaurant '{restaurant_name}' not found.\")\n",
    "            suggestions = df[df['name'].str.contains(restaurant_name.split()[0], case=False)]['name'].unique()[:5]\n",
    "            print(\"Did you mean one of these?\\n\", suggestions)\n",
    "            return None\n",
    "        \n",
    "        # 5. Get similar restaurants\n",
    "        distances, neighbor_indices = nn.kneighbors(tfidf_matrix[idx])\n",
    "        \n",
    "        # 6. Format and return top N (excluding self)\n",
    "        recommendations = df_subset.iloc[neighbor_indices[0][1:top_n+1]][\n",
    "            ['name', 'cuisines', 'rate', 'cost']\n",
    "        ].sort_values('rate', ascending=False)\n",
    "        \n",
    "        recommendations = recommendations.rename(columns={\n",
    "            'name': 'Restaurant', \n",
    "            'cuisines': 'Cuisines',\n",
    "            'rate': 'Mean Rating',\n",
    "            'cost': 'Cost'\n",
    "        })\n",
    "        \n",
    "        print(f\"\\n📍 TOP {top_n} RESTAURANTS LIKE {restaurant_name} WITH SIMILAR REVIEWS:\\n\")\n",
    "        return recommendations\n",
    "        \n",
    "    except Exception as e:\n",
    "        print(f\"⚠️ Error: {str(e)}\")\n",
    "        print(\"Try reducing the dataset size or using a machine with more memory.\")\n",
    "        return None"
   ]
  },
  {
   "cell_type": "code",
   "execution_count": null,
   "id": "53006220-f928-4d65-9ed5-5221fe25fc07",
   "metadata": {},
   "outputs": [],
   "source": [
    "recommend('Red Chilliez')"
   ]
  },
  {
   "cell_type": "code",
   "execution_count": null,
   "id": "a2c8fe64-5569-4694-a2fd-a4c6987de882",
   "metadata": {},
   "outputs": [],
   "source": [
    "recommend(\"Cinnamon\")"
   ]
  },
  {
   "cell_type": "code",
   "execution_count": null,
   "id": "2092bdf5-4f68-4c19-88a9-029a4af3ff18",
   "metadata": {},
   "outputs": [],
   "source": [
    "recommend('Spice Up')"
   ]
  },
  {
   "cell_type": "code",
   "execution_count": null,
   "id": "2fd3fb11-17ad-4cdf-b852-b445035eccc3",
   "metadata": {},
   "outputs": [],
   "source": [
    "recommend('Desi Doze')"
   ]
  },
  {
   "cell_type": "code",
   "execution_count": null,
   "id": "ac3a39ec-8cce-400f-8810-f01d3ef5cc21",
   "metadata": {},
   "outputs": [],
   "source": [
    "import pickle\n",
    "\n",
    "# After all your preprocessing is done, save everything\n",
    "with open('restaurant.pkl', 'wb') as file:\n",
    "    data_to_save = {\n",
    "        'df_percent': df_percent,\n",
    "        'tfidf': tfidf,\n",
    "        'tfidf_matrix': tfidf_matrix,\n",
    "        'cosine_similarities': cosine_similarities,\n",
    "        'indices': indices,\n",
    "        'zomato_df': zomato_df\n",
    "    }\n",
    "    pickle.dump(data_to_save, file)\n",
    "print(\"✅ Recommendation data saved to restaurant.pkl\")"
   ]
  },
  {
   "cell_type": "code",
   "execution_count": null,
   "id": "46f34d9a-83fe-4253-bec5-1bc0b3eedb48",
   "metadata": {},
   "outputs": [],
   "source": []
  }
 ],
 "metadata": {
  "kernelspec": {
   "display_name": "Python 3 (ipykernel)",
   "language": "python",
   "name": "python3"
  },
  "language_info": {
   "codemirror_mode": {
    "name": "ipython",
    "version": 3
   },
   "file_extension": ".py",
   "mimetype": "text/x-python",
   "name": "python",
   "nbconvert_exporter": "python",
   "pygments_lexer": "ipython3",
   "version": "3.11.7"
  }
 },
 "nbformat": 4,
 "nbformat_minor": 5
}
